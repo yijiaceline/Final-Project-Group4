{
 "cells": [
  {
   "cell_type": "code",
   "execution_count": 1,
   "metadata": {
    "collapsed": true
   },
   "outputs": [],
   "source": [
    "import pandas as pd\n",
    "import matplotlib.pyplot as plt"
   ]
  },
  {
   "cell_type": "code",
   "execution_count": 14,
   "metadata": {},
   "outputs": [
    {
     "data": {
      "image/png": "[encoded data removed]",
      "text/plain": [
       "<matplotlib.figure.Figure at 0x10fee64e0>"
      ]
     },
     "metadata": {},
     "output_type": "display_data"
    }
   ],
   "source": [
    "bees = pd.read_csv('/Users/apple/Desktop/FinalProject/input/bee_data.csv')\n",
    "plt.figure(figsize=(6,6))\n",
    "bees.health.value_counts().plot(kind = 'bar')\n",
    "plt.title('Hive Health')\n",
    "plt.show()"
   ]
  },
  {
   "cell_type": "code",
   "execution_count": 13,
   "metadata": {},
   "outputs": [
    {
     "data": {
      "text/plain": [
       "file               1788\n",
       "date               1788\n",
       "time               1788\n",
       "location           1788\n",
       "zip code           1788\n",
       "subspecies         1788\n",
       "health             1788\n",
       "pollen_carrying    1788\n",
       "caste              1788\n",
       "dtype: int64"
      ]
     },
     "execution_count": 13,
     "metadata": {},
     "output_type": "execute_result"
    }
   ],
   "source": [
    "unhealthy = bees.loc[bees['health'] != 'healthy']\n",
    "unhealthy.count()"
   ]
  },
  {
   "cell_type": "code",
   "execution_count": 12,
   "metadata": {},
   "outputs": [
    {
     "data": {
      "text/plain": [
       "file               3384\n",
       "date               3384\n",
       "time               3384\n",
       "location           3384\n",
       "zip code           3384\n",
       "subspecies         3384\n",
       "health             3384\n",
       "pollen_carrying    3384\n",
       "caste              3384\n",
       "dtype: int64"
      ]
     },
     "execution_count": 12,
     "metadata": {},
     "output_type": "execute_result"
    }
   ],
   "source": [
    "healthy = bees.loc[bees['health'] == 'healthy']\n",
    "healthy.count()"
   ]
  },
  {
   "cell_type": "code",
   "execution_count": null,
   "metadata": {
    "collapsed": true
   },
   "outputs": [],
   "source": []
  }
 ],
 "metadata": {
  "kernelspec": {
   "display_name": "Python 3",
   "language": "python",
   "name": "python3"
  },
  "language_info": {
   "codemirror_mode": {
    "name": "ipython",
    "version": 3
   },
   "file_extension": ".py",
   "mimetype": "text/x-python",
   "name": "python",
   "nbconvert_exporter": "python",
   "pygments_lexer": "ipython3",
   "version": "3.6.3"
  }
 },
 "nbformat": 4,
 "nbformat_minor": 2
}

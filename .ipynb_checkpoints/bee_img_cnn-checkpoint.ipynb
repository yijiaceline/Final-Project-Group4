{
 "cells": [
  {
   "cell_type": "code",
   "execution_count": null,
   "metadata": {},
   "outputs": [
    {
     "name": "stderr",
     "output_type": "stream",
     "text": [
      "/usr/lib/python3.5/importlib/_bootstrap.py:222: RuntimeWarning: numpy.dtype size changed, may indicate binary incompatibility. Expected 96, got 88\n",
      "  return f(*args, **kwds)\n",
      "/usr/lib/python3.5/importlib/_bootstrap.py:222: RuntimeWarning: numpy.dtype size changed, may indicate binary incompatibility. Expected 96, got 88\n",
      "  return f(*args, **kwds)\n"
     ]
    }
   ],
   "source": [
    "import pandas as pd\n",
    "import numpy as np\n",
    "import keras"
   ]
  },
  {
   "cell_type": "markdown",
   "metadata": {},
   "source": [
    "# EDA"
   ]
  },
  {
   "cell_type": "code",
   "execution_count": 3,
   "metadata": {},
   "outputs": [],
   "source": [
    "bee=pd.read_csv(\"bee_data.csv\")"
   ]
  },
  {
   "cell_type": "code",
   "execution_count": 4,
   "metadata": {},
   "outputs": [
    {
     "data": {
      "text/plain": [
       "(5172, 9)"
      ]
     },
     "execution_count": 4,
     "metadata": {},
     "output_type": "execute_result"
    }
   ],
   "source": [
    "bee.shape"
   ]
  },
  {
   "cell_type": "code",
   "execution_count": 5,
   "metadata": {},
   "outputs": [
    {
     "data": {
      "text/html": [
       "<div>\n",
       "<style scoped>\n",
       "    .dataframe tbody tr th:only-of-type {\n",
       "        vertical-align: middle;\n",
       "    }\n",
       "\n",
       "    .dataframe tbody tr th {\n",
       "        vertical-align: top;\n",
       "    }\n",
       "\n",
       "    .dataframe thead th {\n",
       "        text-align: right;\n",
       "    }\n",
       "</style>\n",
       "<table border=\"1\" class=\"dataframe\">\n",
       "  <thead>\n",
       "    <tr style=\"text-align: right;\">\n",
       "      <th></th>\n",
       "      <th>file</th>\n",
       "      <th>date</th>\n",
       "      <th>time</th>\n",
       "      <th>location</th>\n",
       "      <th>zip code</th>\n",
       "      <th>subspecies</th>\n",
       "      <th>health</th>\n",
       "      <th>pollen_carrying</th>\n",
       "      <th>caste</th>\n",
       "    </tr>\n",
       "  </thead>\n",
       "  <tbody>\n",
       "    <tr>\n",
       "      <th>0</th>\n",
       "      <td>041_066.png</td>\n",
       "      <td>8/28/18</td>\n",
       "      <td>16:07</td>\n",
       "      <td>Alvin, TX, USA</td>\n",
       "      <td>77511</td>\n",
       "      <td>-1</td>\n",
       "      <td>hive being robbed</td>\n",
       "      <td>False</td>\n",
       "      <td>worker</td>\n",
       "    </tr>\n",
       "    <tr>\n",
       "      <th>1</th>\n",
       "      <td>041_072.png</td>\n",
       "      <td>8/28/18</td>\n",
       "      <td>16:07</td>\n",
       "      <td>Alvin, TX, USA</td>\n",
       "      <td>77511</td>\n",
       "      <td>-1</td>\n",
       "      <td>hive being robbed</td>\n",
       "      <td>False</td>\n",
       "      <td>worker</td>\n",
       "    </tr>\n",
       "    <tr>\n",
       "      <th>2</th>\n",
       "      <td>041_073.png</td>\n",
       "      <td>8/28/18</td>\n",
       "      <td>16:07</td>\n",
       "      <td>Alvin, TX, USA</td>\n",
       "      <td>77511</td>\n",
       "      <td>-1</td>\n",
       "      <td>hive being robbed</td>\n",
       "      <td>False</td>\n",
       "      <td>worker</td>\n",
       "    </tr>\n",
       "    <tr>\n",
       "      <th>3</th>\n",
       "      <td>041_067.png</td>\n",
       "      <td>8/28/18</td>\n",
       "      <td>16:07</td>\n",
       "      <td>Alvin, TX, USA</td>\n",
       "      <td>77511</td>\n",
       "      <td>-1</td>\n",
       "      <td>hive being robbed</td>\n",
       "      <td>False</td>\n",
       "      <td>worker</td>\n",
       "    </tr>\n",
       "    <tr>\n",
       "      <th>4</th>\n",
       "      <td>041_059.png</td>\n",
       "      <td>8/28/18</td>\n",
       "      <td>16:07</td>\n",
       "      <td>Alvin, TX, USA</td>\n",
       "      <td>77511</td>\n",
       "      <td>-1</td>\n",
       "      <td>hive being robbed</td>\n",
       "      <td>False</td>\n",
       "      <td>worker</td>\n",
       "    </tr>\n",
       "  </tbody>\n",
       "</table>\n",
       "</div>"
      ],
      "text/plain": [
       "          file     date   time        location  zip code subspecies  \\\n",
       "0  041_066.png  8/28/18  16:07  Alvin, TX, USA     77511         -1   \n",
       "1  041_072.png  8/28/18  16:07  Alvin, TX, USA     77511         -1   \n",
       "2  041_073.png  8/28/18  16:07  Alvin, TX, USA     77511         -1   \n",
       "3  041_067.png  8/28/18  16:07  Alvin, TX, USA     77511         -1   \n",
       "4  041_059.png  8/28/18  16:07  Alvin, TX, USA     77511         -1   \n",
       "\n",
       "              health  pollen_carrying   caste  \n",
       "0  hive being robbed            False  worker  \n",
       "1  hive being robbed            False  worker  \n",
       "2  hive being robbed            False  worker  \n",
       "3  hive being robbed            False  worker  \n",
       "4  hive being robbed            False  worker  "
      ]
     },
     "execution_count": 5,
     "metadata": {},
     "output_type": "execute_result"
    }
   ],
   "source": [
    "bee.head()"
   ]
  },
  {
   "cell_type": "code",
   "execution_count": 7,
   "metadata": {},
   "outputs": [
    {
     "data": {
      "text/plain": [
       "file               object\n",
       "date               object\n",
       "time               object\n",
       "location           object\n",
       "zip code            int64\n",
       "subspecies         object\n",
       "health             object\n",
       "pollen_carrying      bool\n",
       "caste              object\n",
       "dtype: object"
      ]
     },
     "execution_count": 7,
     "metadata": {},
     "output_type": "execute_result"
    }
   ],
   "source": [
    "bee.dtypes"
   ]
  },
  {
   "cell_type": "code",
   "execution_count": 27,
   "metadata": {},
   "outputs": [
    {
     "data": {
      "text/plain": [
       "file               0\n",
       "date               0\n",
       "time               0\n",
       "location           0\n",
       "zip code           0\n",
       "subspecies         0\n",
       "health             0\n",
       "pollen_carrying    0\n",
       "caste              0\n",
       "dtype: int64"
      ]
     },
     "execution_count": 27,
     "metadata": {},
     "output_type": "execute_result"
    }
   ],
   "source": [
    "bee.isnull().sum()"
   ]
  },
  {
   "cell_type": "code",
   "execution_count": 25,
   "metadata": {},
   "outputs": [
    {
     "data": {
      "text/plain": [
       "array(['-1', 'Italian honey bee', 'VSH Italian honey bee',\n",
       "       'Carniolan honey bee', 'Russian honey bee',\n",
       "       '1 Mixed local stock 2', 'Western honey bee'], dtype=object)"
      ]
     },
     "execution_count": 25,
     "metadata": {},
     "output_type": "execute_result"
    }
   ],
   "source": [
    "bee[\"subspecies\"].unique()"
   ]
  },
  {
   "cell_type": "code",
   "execution_count": 36,
   "metadata": {},
   "outputs": [
    {
     "data": {
      "text/plain": [
       "Italian honey bee        3008\n",
       "Russian honey bee         527\n",
       "Carniolan honey bee       501\n",
       "1 Mixed local stock 2     472\n",
       "-1                        428\n",
       "VSH Italian honey bee     199\n",
       "Western honey bee          37\n",
       "Name: subspecies, dtype: int64"
      ]
     },
     "execution_count": 36,
     "metadata": {},
     "output_type": "execute_result"
    }
   ],
   "source": [
    "#imbalance \n",
    "bee[\"subspecies\"].value_counts()"
   ]
  },
  {
   "cell_type": "code",
   "execution_count": 47,
   "metadata": {},
   "outputs": [
    {
     "data": {
      "image/png": "[encoded data removed]",
      "text/plain": [
       "<Figure size 1152x360 with 1 Axes>"
      ]
     },
     "metadata": {
      "needs_background": "light"
     },
     "output_type": "display_data"
    }
   ],
   "source": [
    "plt.figure(figsize=(16,5))\n",
    "plt.bar(bee[\"subspecies\"].value_counts().index, bee[\"subspecies\"].value_counts(), )\n",
    "plt.show()"
   ]
  },
  {
   "cell_type": "code",
   "execution_count": 30,
   "metadata": {},
   "outputs": [
    {
     "data": {
      "text/plain": [
       "healthy                       3384\n",
       "few varrao, hive beetles       579\n",
       "Varroa, Small Hive Beetles     472\n",
       "ant problems                   457\n",
       "hive being robbed              251\n",
       "missing queen                   29\n",
       "Name: health, dtype: int64"
      ]
     },
     "execution_count": 30,
     "metadata": {},
     "output_type": "execute_result"
    }
   ],
   "source": [
    "bee['health'].value_counts()"
   ]
  },
  {
   "cell_type": "code",
   "execution_count": 173,
   "metadata": {},
   "outputs": [
    {
     "data": {
      "image/png": "[encoded data removed]",
      "text/plain": [
       "<Figure size 1152x360 with 1 Axes>"
      ]
     },
     "metadata": {
      "needs_background": "light"
     },
     "output_type": "display_data"
    }
   ],
   "source": [
    "plt.figure(figsize=(16,5))\n",
    "plt.bar(bee['health'].value_counts().index, bee[\"health\"].value_counts(), )\n",
    "plt.show()"
   ]
  },
  {
   "cell_type": "markdown",
   "metadata": {},
   "source": [
    "# Consider resampling?\n",
    "#### oversample undersample \n",
    "    "
   ]
  },
  {
   "cell_type": "code",
   "execution_count": 13,
   "metadata": {},
   "outputs": [
    {
     "name": "stdout",
     "output_type": "stream",
     "text": [
      "\u001b[33mThe directory '/home/ubuntu/.cache/pip/http' or its parent directory is not owned by the current user and the cache has been disabled. Please check the permissions and owner of that directory. If executing pip with sudo, you may want sudo's -H flag.\u001b[0m\n",
      "\u001b[33mThe directory '/home/ubuntu/.cache/pip' or its parent directory is not owned by the current user and caching wheels has been disabled. check the permissions and owner of that directory. If executing pip with sudo, you may want sudo's -H flag.\u001b[0m\n",
      "Collecting nltk\n",
      "\u001b[?25l  Downloading https://files.pythonhosted.org/packages/6f/ed/9c755d357d33bc1931e157f537721efb5b88d2c583fe593cc09603076cc3/nltk-3.4.zip (1.4MB)\n",
      "\u001b[K    100% |████████████████████████████████| 1.4MB 26.4MB/s ta 0:00:01\n",
      "\u001b[?25hRequirement already satisfied: six in /usr/lib/python3/dist-packages (from nltk) (1.10.0)\n",
      "Collecting singledispatch (from nltk)\n",
      "  Downloading https://files.pythonhosted.org/packages/c5/10/369f50bcd4621b263927b0a1519987a04383d4a98fb10438042ad410cf88/singledispatch-3.4.0.3-py2.py3-none-any.whl\n",
      "Installing collected packages: singledispatch, nltk\n",
      "  Running setup.py install for nltk ... \u001b[?25ldone\n",
      "\u001b[?25hSuccessfully installed nltk-3.4 singledispatch-3.4.0.3\n"
     ]
    }
   ],
   "source": [
    "#!pip install nltk"
   ]
  },
  {
   "cell_type": "code",
   "execution_count": 22,
   "metadata": {},
   "outputs": [
    {
     "name": "stderr",
     "output_type": "stream",
     "text": [
      "/usr/lib/python3.5/importlib/_bootstrap.py:222: RuntimeWarning: numpy.dtype size changed, may indicate binary incompatibility. Expected 96, got 88\n",
      "  return f(*args, **kwds)\n",
      "/usr/lib/python3.5/importlib/_bootstrap.py:222: RuntimeWarning: numpy.dtype size changed, may indicate binary incompatibility. Expected 96, got 88\n",
      "  return f(*args, **kwds)\n"
     ]
    }
   ],
   "source": [
    "import nltk\n",
    "from sklearn.model_selection import train_test_split\n",
    "from sklearn import preprocessing\n",
    "x_train, x_test, y_train, y_test = train_test_split(bee[\"file\"],bee[\"subspecies\"],test_size=0.3,random_state=0)"
   ]
  },
  {
   "cell_type": "code",
   "execution_count": 24,
   "metadata": {},
   "outputs": [
    {
     "data": {
      "text/plain": [
       "(3620,)"
      ]
     },
     "execution_count": 24,
     "metadata": {},
     "output_type": "execute_result"
    }
   ],
   "source": [
    "x_train.shape"
   ]
  },
  {
   "cell_type": "code",
   "execution_count": null,
   "metadata": {},
   "outputs": [],
   "source": [
    "import skimage\n",
    "import skimage.io\n",
    "import os\n",
    "import matplotlib.pyplot as plt\n",
    "import skimage.transform"
   ]
  },
  {
   "cell_type": "code",
   "execution_count": 200,
   "metadata": {},
   "outputs": [
    {
     "data": {
      "image/png": "[encoded data removed]",
      "text/plain": [
       "<Figure size 432x288 with 1 Axes>"
      ]
     },
     "metadata": {
      "needs_background": "light"
     },
     "output_type": "display_data"
    }
   ],
   "source": [
    "img_dir=\"/home/ubuntu/bee_imgs\"\n",
    "img = skimage.io.imread(os.path.join(img_dir, '001_047.png'))\n",
    "plt.imshow(img)\n",
    "plt.show()"
   ]
  },
  {
   "cell_type": "code",
   "execution_count": 204,
   "metadata": {
    "scrolled": true
   },
   "outputs": [
    {
     "data": {
      "text/plain": [
       "array([[[180, 179, 173],\n",
       "        [180, 179, 173],\n",
       "        [180, 179, 173],\n",
       "        ...,\n",
       "        [188, 185, 178],\n",
       "        [189, 186, 179],\n",
       "        [185, 182, 175]],\n",
       "\n",
       "       [[180, 179, 173],\n",
       "        [180, 179, 173],\n",
       "        [180, 179, 173],\n",
       "        ...,\n",
       "        [187, 184, 177],\n",
       "        [187, 184, 177],\n",
       "        [184, 181, 174]],\n",
       "\n",
       "       [[180, 179, 173],\n",
       "        [180, 179, 173],\n",
       "        [180, 179, 173],\n",
       "        ...,\n",
       "        [185, 182, 175],\n",
       "        [187, 184, 177],\n",
       "        [183, 180, 173]],\n",
       "\n",
       "       ...,\n",
       "\n",
       "       [[182, 181, 172],\n",
       "        [182, 181, 172],\n",
       "        [182, 181, 172],\n",
       "        ...,\n",
       "        [182, 181, 173],\n",
       "        [183, 182, 174],\n",
       "        [184, 183, 175]],\n",
       "\n",
       "       [[182, 181, 172],\n",
       "        [182, 181, 172],\n",
       "        [182, 181, 172],\n",
       "        ...,\n",
       "        [182, 181, 173],\n",
       "        [182, 181, 173],\n",
       "        [182, 181, 173]],\n",
       "\n",
       "       [[182, 181, 172],\n",
       "        [182, 181, 172],\n",
       "        [182, 181, 172],\n",
       "        ...,\n",
       "        [182, 181, 173],\n",
       "        [183, 182, 174],\n",
       "        [183, 182, 174]]], dtype=uint8)"
      ]
     },
     "execution_count": 204,
     "metadata": {},
     "output_type": "execute_result"
    }
   ],
   "source": [
    "#RGB VALUES \n",
    "img"
   ]
  },
  {
   "cell_type": "code",
   "execution_count": 202,
   "metadata": {},
   "outputs": [
    {
     "data": {
      "text/plain": [
       "(92, 74, 3)"
      ]
     },
     "execution_count": 202,
     "metadata": {},
     "output_type": "execute_result"
    }
   ],
   "source": [
    "img.shape"
   ]
  },
  {
   "cell_type": "code",
   "execution_count": 9,
   "metadata": {},
   "outputs": [],
   "source": [
    "img_wid = 100\n",
    "img_len = 100\n",
    "img_channels =3 \n",
    "\n",
    "#show image\n",
    "def show_img(file):\n",
    "    img = skimage.io.imread(os.path.join(img_dir, file))\n",
    "    img = skimage.transform.resize(img, (img_wid, img_len), mode='reflect')\n",
    "\n",
    "    return img[:,:,:img_channels]"
   ]
  },
  {
   "cell_type": "code",
   "execution_count": 23,
   "metadata": {},
   "outputs": [
    {
     "name": "stdout",
     "output_type": "stream",
     "text": [
      "(3620, 120, 120, 3)\n"
     ]
    }
   ],
   "source": [
    "img_wid = 120\n",
    "img_len = 120\n",
    "img_channels = 3 #RGB\n",
    "\n",
    "#get image\n",
    "def show_img(file):\n",
    "    img = skimage.io.imread(os.path.join(img_dir, file))\n",
    "    img = skimage.transform.resize(img, (img_wid, img_len), mode='reflect')\n",
    "\n",
    "    return img[:,:,:img_channels]\n",
    "\n",
    "\n",
    "train_img = np.stack(x_train.apply(show_img))\n",
    "print(train_img.shape)"
   ]
  },
  {
   "cell_type": "code",
   "execution_count": 233,
   "metadata": {},
   "outputs": [],
   "source": [
    "test_img = np.stack(x_test.apply(show_img))"
   ]
  },
  {
   "cell_type": "code",
   "execution_count": 26,
   "metadata": {},
   "outputs": [],
   "source": [
    "from keras.preprocessing.image import ImageDataGenerator"
   ]
  },
  {
   "cell_type": "code",
   "execution_count": 180,
   "metadata": {},
   "outputs": [],
   "source": [
    "generator = ImageDataGenerator(\n",
    "    featurewise_center=False,  # set input mean to 0 over the dataset\n",
    "    samplewise_center=False,  # set each sample mean to 0\n",
    "    featurewise_std_normalization=False,  # divide inputs by std of the dataset\n",
    "    samplewise_std_normalization=False,  # divide each input by its std\n",
    "    zca_whitening=False,  # apply ZCA whitening\n",
    "    rotation_range=180,  # randomly rotate images in the range (degrees, 0 to 180)\n",
    "    zoom_range=0.1,  # Randomly zoom image\n",
    "    width_shift_range=0.2,  # randomly shift images horizontally (fraction of total width)\n",
    "    height_shift_range=0.2,  # randomly shift images vertically (fraction of total height)\n",
    "    horizontal_flip=True,  # randomly flip images\n",
    "    vertical_flip=True)\n",
    "\n",
    "generator.fit(train_img)"
   ]
  },
  {
   "cell_type": "code",
   "execution_count": null,
   "metadata": {},
   "outputs": [],
   "source": []
  },
  {
   "cell_type": "markdown",
   "metadata": {},
   "source": [
    "## Two ways encoding label "
   ]
  },
  {
   "cell_type": "code",
   "execution_count": 171,
   "metadata": {},
   "outputs": [],
   "source": [
    "from sklearn.preprocessing import LabelEncoder\n",
    "le = LabelEncoder()\n",
    "le.fit(y_train)\n",
    "encoded_Y = le.transform(y_train)\n",
    "encoded_yt = le.transform(y_test)\n",
    "#arget = np_utils.to_categorical(encoded_Y )"
   ]
  },
  {
   "cell_type": "code",
   "execution_count": 206,
   "metadata": {},
   "outputs": [
    {
     "data": {
      "text/plain": [
       "(3620,)"
      ]
     },
     "execution_count": 206,
     "metadata": {},
     "output_type": "execute_result"
    }
   ],
   "source": [
    "encoded_Y.shape"
   ]
  },
  {
   "cell_type": "code",
   "execution_count": 161,
   "metadata": {},
   "outputs": [],
   "source": [
    "nb_classes=7"
   ]
  },
  {
   "cell_type": "code",
   "execution_count": 207,
   "metadata": {},
   "outputs": [],
   "source": [
    "from keras.utils import np_utils\n",
    "y_tr = np_utils.to_categorical(encoded_Y,nb_classes)\n",
    "y_te=np_utils.to_categorical(encoded_yt,nb_classes)"
   ]
  },
  {
   "cell_type": "code",
   "execution_count": 209,
   "metadata": {},
   "outputs": [
    {
     "data": {
      "text/plain": [
       "(3620, 7)"
      ]
     },
     "execution_count": 209,
     "metadata": {},
     "output_type": "execute_result"
    }
   ],
   "source": [
    "y_tr.shape"
   ]
  },
  {
   "cell_type": "code",
   "execution_count": 150,
   "metadata": {},
   "outputs": [
    {
     "ename": "NameError",
     "evalue": "name 'onehot' is not defined",
     "output_type": "error",
     "traceback": [
      "\u001b[0;31m---------------------------------------------------------------------------\u001b[0m",
      "\u001b[0;31mNameError\u001b[0m                                 Traceback (most recent call last)",
      "\u001b[0;32m<ipython-input-150-2ad7aae26396>\u001b[0m in \u001b[0;36m<module>\u001b[0;34m\u001b[0m\n\u001b[1;32m      1\u001b[0m \u001b[0my_r\u001b[0m \u001b[0;34m=\u001b[0m \u001b[0mpd\u001b[0m\u001b[0;34m.\u001b[0m\u001b[0mget_dummies\u001b[0m\u001b[0;34m(\u001b[0m\u001b[0my_train\u001b[0m\u001b[0;34m)\u001b[0m\u001b[0;34m\u001b[0m\u001b[0m\n\u001b[0;32m----> 2\u001b[0;31m \u001b[0mtarget_labels\u001b[0m \u001b[0;34m=\u001b[0m \u001b[0monehot\u001b[0m\u001b[0;34m.\u001b[0m\u001b[0mcolumns\u001b[0m\u001b[0;34m\u001b[0m\u001b[0m\n\u001b[0m\u001b[1;32m      3\u001b[0m \u001b[0mtarget\u001b[0m \u001b[0;34m=\u001b[0m \u001b[0monehot\u001b[0m\u001b[0;34m.\u001b[0m\u001b[0mas_matrix\u001b[0m\u001b[0;34m(\u001b[0m\u001b[0;34m)\u001b[0m\u001b[0;34m\u001b[0m\u001b[0m\n",
      "\u001b[0;31mNameError\u001b[0m: name 'onehot' is not defined"
     ]
    }
   ],
   "source": [
    "y_r = pd.get_dummies(y_train)"
   ]
  },
  {
   "cell_type": "code",
   "execution_count": 211,
   "metadata": {},
   "outputs": [
    {
     "data": {
      "text/plain": [
       "(3620, 7)"
      ]
     },
     "execution_count": 211,
     "metadata": {},
     "output_type": "execute_result"
    }
   ],
   "source": [
    "y_r.shape"
   ]
  },
  {
   "cell_type": "code",
   "execution_count": null,
   "metadata": {},
   "outputs": [],
   "source": [
    "nb_filter = 256\n",
    "dense_outputs = 700\n",
    "filter_kernels = [7, 7, 5, 5, 3, 3]\n",
    "n_out = 2"
   ]
  },
  {
   "cell_type": "code",
   "execution_count": 226,
   "metadata": {},
   "outputs": [],
   "source": [
    "from keras.models import Sequential\n",
    "from keras import optimizers\n",
    "from keras.layers import Dense, Activation, Flatten, Conv2D, MaxPooling2D,BatchNormalization"
   ]
  },
  {
   "cell_type": "code",
   "execution_count": 227,
   "metadata": {},
   "outputs": [],
   "source": [
    "def cnn():\n",
    "    model = Sequential()\n",
    "    model.add(Conv2D(input_shape = (train_img.shape[1], train_img.shape[2], train_img.shape[3]), filters = 50, kernel_size = (3,3), strides = (1,1), padding = 'same',kernel_initializer='he_normal'))\n",
    "    model.add(BatchNormalization())\n",
    "    model.add(Activation('relu'))\n",
    "    model.add(Conv2D(filters = 50, kernel_size = (3,3), strides = (1,1), padding = 'same'))\n",
    "    model.add(BatchNormalization())\n",
    "    model.add(Activation('relu'))\n",
    "    model.add(MaxPooling2D(pool_size = (2,2)))\n",
    "    model.add(Conv2D(filters = 50, kernel_size = (3,3), strides = (1,1), padding = 'same'))\n",
    "    model.add(BatchNormalization())\n",
    "    model.add(Activation('relu'))\n",
    "    model.add(Conv2D(filters = 50, kernel_size = (3,3), strides = (1,1), padding = 'same'))\n",
    "    model.add(BatchNormalization())\n",
    "    model.add(Activation('relu'))\n",
    "    model.add(MaxPooling2D(pool_size = (2,2)))\n",
    "    model.add(Flatten())\n",
    "    # dense layer with 50 neurons\n",
    "    model.add(Dense(50, activation = 'relu'))\n",
    "    model.add(Dense(7, activation = 'softmax'))\n",
    "    \n",
    "    adam = optimizers.Adam(lr = 0.001)\n",
    "    model.compile(loss = 'categorical_crossentropy', optimizer = adam, metrics = ['accuracy'])\n",
    "    \n",
    "    return model    \n",
    "\n",
    "model = cnn()\n",
    "\n"
   ]
  },
  {
   "cell_type": "code",
   "execution_count": null,
   "metadata": {},
   "outputs": [],
   "source": [
    "def cnn_2():\n",
    "    model = Sequential()\n",
    "    model.add(Conv2D(input_shape = (train_img.shape[1], train_img.shape[2], train_img.shape[3]), filters = 50, kernel_size = (3,3), strides = (1,1), padding = 'same',kernel_initializer='he_normal'))\n",
    "    model.add(BatchNormalization())\n",
    "    model.add(Activation('relu'))\n",
    "    model.add(Conv2D(filters = 50, kernel_size = (3,3), strides = (1,1), padding = 'same'))\n",
    "    model.add(BatchNormalization())\n",
    "    model.add(Activation('relu'))\n",
    "    model.add(MaxPooling2D(pool_size = (2,2)))\n",
    "    model.add(Conv2D(filters = 50, kernel_size = (3,3), strides = (1,1), padding = 'same'))\n",
    "    model.add(BatchNormalization())\n",
    "    model.add(Activation('relu'))\n",
    "    model.add(Conv2D(filters = 50, kernel_size = (3,3), strides = (1,1), padding = 'same'))\n",
    "    model.add(BatchNormalization())\n",
    "    model.add(Activation('relu'))\n",
    "    model.add(MaxPooling2D(pool_size = (2,2)))\n",
    "    model.add(Flatten())\n",
    "    # dense layer with 50 neurons\n",
    "    model.add(Dense(50, activation = 'relu'))\n",
    "    model.add(Dense(7, activation = 'softmax'))\n",
    "    \n",
    "    adam = optimizers.Adam(lr = 0.001)\n",
    "    model.compile(loss = 'categorical_crossentropy', optimizer = adam, metrics = ['accuracy'])\n",
    "    \n",
    "    return model    \n",
    "\n",
    "model = cnn()"
   ]
  },
  {
   "cell_type": "code",
   "execution_count": 228,
   "metadata": {},
   "outputs": [
    {
     "name": "stdout",
     "output_type": "stream",
     "text": [
      "_________________________________________________________________\n",
      "Layer (type)                 Output Shape              Param #   \n",
      "=================================================================\n",
      "conv2d_148 (Conv2D)          (None, 120, 120, 50)      1400      \n",
      "_________________________________________________________________\n",
      "batch_normalization_1 (Batch (None, 120, 120, 50)      200       \n",
      "_________________________________________________________________\n",
      "activation_145 (Activation)  (None, 120, 120, 50)      0         \n",
      "_________________________________________________________________\n",
      "conv2d_149 (Conv2D)          (None, 120, 120, 50)      22550     \n",
      "_________________________________________________________________\n",
      "batch_normalization_2 (Batch (None, 120, 120, 50)      200       \n",
      "_________________________________________________________________\n",
      "activation_146 (Activation)  (None, 120, 120, 50)      0         \n",
      "_________________________________________________________________\n",
      "max_pooling2d_73 (MaxPooling (None, 60, 60, 50)        0         \n",
      "_________________________________________________________________\n",
      "conv2d_150 (Conv2D)          (None, 60, 60, 50)        22550     \n",
      "_________________________________________________________________\n",
      "batch_normalization_3 (Batch (None, 60, 60, 50)        200       \n",
      "_________________________________________________________________\n",
      "activation_147 (Activation)  (None, 60, 60, 50)        0         \n",
      "_________________________________________________________________\n",
      "conv2d_151 (Conv2D)          (None, 60, 60, 50)        22550     \n",
      "_________________________________________________________________\n",
      "batch_normalization_4 (Batch (None, 60, 60, 50)        200       \n",
      "_________________________________________________________________\n",
      "activation_148 (Activation)  (None, 60, 60, 50)        0         \n",
      "_________________________________________________________________\n",
      "max_pooling2d_74 (MaxPooling (None, 30, 30, 50)        0         \n",
      "_________________________________________________________________\n",
      "flatten_19 (Flatten)         (None, 45000)             0         \n",
      "_________________________________________________________________\n",
      "dense_21 (Dense)             (None, 50)                2250050   \n",
      "_________________________________________________________________\n",
      "dense_22 (Dense)             (None, 7)                 357       \n",
      "=================================================================\n",
      "Total params: 2,320,257\n",
      "Trainable params: 2,319,857\n",
      "Non-trainable params: 400\n",
      "_________________________________________________________________\n"
     ]
    }
   ],
   "source": [
    "model.summary()"
   ]
  },
  {
   "cell_type": "code",
   "execution_count": 241,
   "metadata": {},
   "outputs": [
    {
     "name": "stdout",
     "output_type": "stream",
     "text": [
      "Epoch 1/20\n",
      "3620/3620 [==============================] - 12s 3ms/step - loss: 6.6610 - acc: 0.5867\n",
      "Epoch 2/20\n",
      "3620/3620 [==============================] - 12s 3ms/step - loss: 6.6610 - acc: 0.5867\n",
      "Epoch 3/20\n",
      "3620/3620 [==============================] - 12s 3ms/step - loss: 6.6610 - acc: 0.5867\n",
      "Epoch 4/20\n",
      "3620/3620 [==============================] - 12s 3ms/step - loss: 6.6610 - acc: 0.5867\n",
      "Epoch 5/20\n",
      "3620/3620 [==============================] - 12s 3ms/step - loss: 6.6610 - acc: 0.5867\n",
      "Epoch 6/20\n",
      "3620/3620 [==============================] - 12s 3ms/step - loss: 6.6610 - acc: 0.5867\n",
      "Epoch 7/20\n",
      "3620/3620 [==============================] - 12s 3ms/step - loss: 6.6610 - acc: 0.5867\n",
      "Epoch 8/20\n",
      "3620/3620 [==============================] - 12s 3ms/step - loss: 6.6610 - acc: 0.5867\n",
      "Epoch 9/20\n",
      "3620/3620 [==============================] - 12s 3ms/step - loss: 6.6610 - acc: 0.5867\n",
      "Epoch 10/20\n",
      "3620/3620 [==============================] - 12s 3ms/step - loss: 6.6610 - acc: 0.5867\n",
      "Epoch 11/20\n",
      "3620/3620 [==============================] - 12s 3ms/step - loss: 6.6610 - acc: 0.5867\n",
      "Epoch 12/20\n",
      "3620/3620 [==============================] - 12s 3ms/step - loss: 6.6610 - acc: 0.5867\n",
      "Epoch 13/20\n",
      "3620/3620 [==============================] - 12s 3ms/step - loss: 6.6610 - acc: 0.5867\n",
      "Epoch 14/20\n",
      "3620/3620 [==============================] - 12s 3ms/step - loss: 6.6610 - acc: 0.5867\n",
      "Epoch 15/20\n",
      "3620/3620 [==============================] - 12s 3ms/step - loss: 6.6610 - acc: 0.5867\n",
      "Epoch 16/20\n",
      "3620/3620 [==============================] - 12s 3ms/step - loss: 6.6610 - acc: 0.5867\n",
      "Epoch 17/20\n",
      "3620/3620 [==============================] - 12s 3ms/step - loss: 6.6610 - acc: 0.5867\n",
      "Epoch 18/20\n",
      "3620/3620 [==============================] - 12s 3ms/step - loss: 6.6610 - acc: 0.5867\n",
      "Epoch 19/20\n",
      "3620/3620 [==============================] - 12s 3ms/step - loss: 6.6610 - acc: 0.5867\n",
      "Epoch 20/20\n",
      "3620/3620 [==============================] - 12s 3ms/step - loss: 6.6610 - acc: 0.5867\n"
     ]
    }
   ],
   "source": [
    "training1=model.fit(train_img, y_tr, batch_size = 50, validation_split = 0, epochs = 20, verbose = 1)"
   ]
  },
  {
   "cell_type": "code",
   "execution_count": 235,
   "metadata": {},
   "outputs": [
    {
     "name": "stdout",
     "output_type": "stream",
     "text": [
      "Epoch 1/20\n",
      "50/50 [==============================] - 6s 112ms/step - loss: 6.4976 - acc: 0.5969\n",
      "Epoch 2/20\n",
      "50/50 [==============================] - 5s 107ms/step - loss: 6.7495 - acc: 0.5813\n",
      "Epoch 3/20\n",
      "50/50 [==============================] - 5s 106ms/step - loss: 6.7202 - acc: 0.5831\n",
      "Epoch 4/20\n",
      "50/50 [==============================] - 5s 105ms/step - loss: 6.5085 - acc: 0.5962\n",
      "Epoch 5/20\n",
      "50/50 [==============================] - 6s 110ms/step - loss: 6.6386 - acc: 0.5881\n",
      "Epoch 6/20\n",
      "50/50 [==============================] - 5s 106ms/step - loss: 6.7893 - acc: 0.5788\n",
      "Epoch 7/20\n",
      "50/50 [==============================] - 5s 108ms/step - loss: 6.5983 - acc: 0.5906\n",
      "Epoch 8/20\n",
      "50/50 [==============================] - 5s 106ms/step - loss: 6.8613 - acc: 0.5743\n",
      "Epoch 9/20\n",
      "50/50 [==============================] - 6s 111ms/step - loss: 6.4875 - acc: 0.5975\n",
      "Epoch 10/20\n",
      "50/50 [==============================] - 5s 110ms/step - loss: 6.6588 - acc: 0.5869\n",
      "Epoch 11/20\n",
      "50/50 [==============================] - 5s 106ms/step - loss: 6.6482 - acc: 0.5875\n",
      "Epoch 12/20\n",
      "50/50 [==============================] - 6s 111ms/step - loss: 6.6286 - acc: 0.5887\n",
      "Epoch 13/20\n",
      "50/50 [==============================] - 5s 108ms/step - loss: 6.7504 - acc: 0.5812\n",
      "Epoch 14/20\n",
      "50/50 [==============================] - 5s 108ms/step - loss: 6.6689 - acc: 0.5863\n",
      "Epoch 15/20\n",
      "50/50 [==============================] - 5s 109ms/step - loss: 6.7389 - acc: 0.5819\n",
      "Epoch 16/20\n",
      "50/50 [==============================] - 6s 112ms/step - loss: 6.5178 - acc: 0.5956\n",
      "Epoch 17/20\n",
      "50/50 [==============================] - 5s 109ms/step - loss: 6.5077 - acc: 0.5963\n",
      "Epoch 18/20\n",
      "50/50 [==============================] - 5s 105ms/step - loss: 6.7288 - acc: 0.5825\n",
      "Epoch 19/20\n",
      "50/50 [==============================] - 5s 109ms/step - loss: 6.7092 - acc: 0.5837\n",
      "Epoch 20/20\n",
      "50/50 [==============================] - 5s 107ms/step - loss: 6.5589 - acc: 0.5931\n"
     ]
    }
   ],
   "source": [
    "training2= model.fit_generator(generator.flow(train_img,y_r, batch_size=32)\n",
    "                        ,epochs=20, verbose = 1\n",
    "                        ,steps_per_epoch=50\n",
    "                    )"
   ]
  },
  {
   "cell_type": "code",
   "execution_count": 243,
   "metadata": {},
   "outputs": [
    {
     "name": "stdout",
     "output_type": "stream",
     "text": [
      "1552/1552 [==============================] - 2s 1ms/step\n",
      "Test accuracy:  0.5695876288659794\n"
     ]
    }
   ],
   "source": [
    "results = model.evaluate(test_img, y_te)\n",
    "print('Test accuracy: ', results[1])"
   ]
  },
  {
   "cell_type": "code",
   "execution_count": 244,
   "metadata": {},
   "outputs": [],
   "source": [
    "pp=model.predict(test_img)\n"
   ]
  },
  {
   "cell_type": "code",
   "execution_count": 246,
   "metadata": {},
   "outputs": [],
   "source": [
    "y_pred = np.argmax(pp, axis=1)"
   ]
  },
  {
   "cell_type": "code",
   "execution_count": 247,
   "metadata": {},
   "outputs": [
    {
     "name": "stderr",
     "output_type": "stream",
     "text": [
      "/usr/local/lib/python3.5/dist-packages/sklearn/preprocessing/label.py:151: DeprecationWarning: The truth value of an empty array is ambiguous. Returning False, but in future this will result in an error. Use `array.size > 0` to check that an array is not empty.\n",
      "  if diff:\n"
     ]
    }
   ],
   "source": [
    "yyy=le.inverse_transform(encoded_yt)"
   ]
  },
  {
   "cell_type": "code",
   "execution_count": 248,
   "metadata": {},
   "outputs": [
    {
     "name": "stderr",
     "output_type": "stream",
     "text": [
      "/usr/local/lib/python3.5/dist-packages/sklearn/preprocessing/label.py:151: DeprecationWarning: The truth value of an empty array is ambiguous. Returning False, but in future this will result in an error. Use `array.size > 0` to check that an array is not empty.\n",
      "  if diff:\n"
     ]
    }
   ],
   "source": [
    "yyyy=le.inverse_transform(y_pred)"
   ]
  },
  {
   "cell_type": "code",
   "execution_count": 249,
   "metadata": {},
   "outputs": [
    {
     "name": "stdout",
     "output_type": "stream",
     "text": [
      "                       precision    recall  f1-score   support\n",
      "\n",
      "                   -1       0.00      0.00      0.00       130\n",
      "1 Mixed local stock 2       0.00      0.00      0.00       167\n",
      "  Carniolan honey bee       0.00      0.00      0.00       151\n",
      "    Italian honey bee       0.57      1.00      0.73       884\n",
      "    Russian honey bee       0.00      0.00      0.00       151\n",
      "VSH Italian honey bee       0.00      0.00      0.00        61\n",
      "    Western honey bee       0.00      0.00      0.00         8\n",
      "\n",
      "          avg / total       0.32      0.57      0.41      1552\n",
      "\n"
     ]
    }
   ],
   "source": [
    "from sklearn.metrics import classification_report\n",
    "print(classification_report(yyy, yyyy))"
   ]
  },
  {
   "cell_type": "code",
   "execution_count": null,
   "metadata": {},
   "outputs": [],
   "source": []
  }
 ],
 "metadata": {
  "kernelspec": {
   "display_name": "Python 3",
   "language": "python",
   "name": "python3"
  },
  "language_info": {
   "codemirror_mode": {
    "name": "ipython",
    "version": 3
   },
   "file_extension": ".py",
   "mimetype": "text/x-python",
   "name": "python",
   "nbconvert_exporter": "python",
   "pygments_lexer": "ipython3",
   "version": "3.6.4"
  }
 },
 "nbformat": 4,
 "nbformat_minor": 2
}
